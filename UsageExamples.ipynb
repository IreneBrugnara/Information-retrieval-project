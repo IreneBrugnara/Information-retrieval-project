{
 "cells": [
  {
   "cell_type": "code",
   "execution_count": 1,
   "metadata": {},
   "outputs": [],
   "source": [
    "from ProbabilisticModel import *"
   ]
  },
  {
   "cell_type": "markdown",
   "metadata": {},
   "source": [
    "You can create an inverted index directly from a corpus..."
   ]
  },
  {
   "cell_type": "code",
   "execution_count": 2,
   "metadata": {},
   "outputs": [
    {
     "name": "stdout",
     "output_type": "stream",
     "text": [
      "1000...2000...3000...4000...5000...6000..."
     ]
    }
   ],
   "source": [
    "corpus = read_LISA_corpus()\n",
    "ir = IRsystem.from_corpus(corpus)"
   ]
  },
  {
   "cell_type": "markdown",
   "metadata": {},
   "source": [
    "... or you can save the inverted index to a pickle file, so that you don't need to re-build it every time you run the program (but you need to re-read the corpus)"
   ]
  },
  {
   "cell_type": "code",
   "execution_count": 3,
   "metadata": {},
   "outputs": [
    {
     "name": "stdout",
     "output_type": "stream",
     "text": [
      "1000...2000...3000...4000...5000...6000...finished pickling\n"
     ]
    }
   ],
   "source": [
    "# to be run only once for all\n",
    "corpus = read_LISA_corpus()\n",
    "IRsystem.create_pickle(corpus)"
   ]
  },
  {
   "cell_type": "code",
   "execution_count": 4,
   "metadata": {
    "scrolled": true
   },
   "outputs": [
    {
     "name": "stdout",
     "output_type": "stream",
     "text": [
      "finished reading\n"
     ]
    }
   ],
   "source": [
    "# to be run upon execution every time\n",
    "corpus = read_LISA_corpus()\n",
    "ir = IRsystem.from_pickle(corpus)"
   ]
  },
  {
   "cell_type": "markdown",
   "metadata": {},
   "source": [
    "First of all, instantiate a query:"
   ]
  },
  {
   "cell_type": "code",
   "execution_count": 5,
   "metadata": {},
   "outputs": [],
   "source": [
    "myq = Query(\"public libraries in children education\", ir)"
   ]
  },
  {
   "cell_type": "markdown",
   "metadata": {},
   "source": [
    "To see answers to the query:"
   ]
  },
  {
   "cell_type": "code",
   "execution_count": 6,
   "metadata": {
    "scrolled": true
   },
   "outputs": [
    {
     "name": "stdout",
     "output_type": "stream",
     "text": [
      "[5703]\tCHILDREN'S LIBRARY WORK AMONG ADULTS.\n",
      " (9.257754403736788)\n",
      "[5629]\tLIBRARY SERVICE TO IMMIGRANT CHILDREN IN DENMARK.\n",
      " (9.233650022543618)\n",
      "[5061]\tLIBRARIES AND THE PROMOTION OF READING HABITS IN CHILDREN.\n",
      " (9.13284978271449)\n",
      "[4609]\tREFERENCE SERVICES TO CHILDREN AND STUDENTS IN THE PUBLIC LIBRARY.\n",
      " (8.76749834321211)\n",
      "[2624]\tTHE PUBLIC LIBRARY AND THE POPULATION.\n",
      " (8.641850122601383)\n",
      "[99]\tLIBRARIES FOR CHILDREN.\n",
      " (8.2915881656502)\n",
      "[2666]\tFILMS ON MENTAL RETARDATION.\n",
      " (8.197867918474893)\n",
      "[483]\tSCHOOLTEACHERS' VIEW OF CHILDREN'S BOOKS.\n",
      " (8.187676236284222)\n",
      "[3504]\tINTERNATIONALISM' AND THE CHILDREN'S LITERATURE COMMUNITY IN THE UNITED\n",
      "STATES: A SECOND LOOK\n",
      " (8.162385568347947)\n",
      "[4570]\tCHILDREN'S LITERATURE AND LIBRARIES IN MALI' PROBLEMS AND DEVELOPMENT.\n",
      " (8.161015116878117)\n"
     ]
    }
   ],
   "source": [
    "myq.update_results()\n",
    "myq.display_results()    # the number in round parenthesis is the score"
   ]
  },
  {
   "cell_type": "markdown",
   "metadata": {},
   "source": [
    "You can look at the next pages of results:"
   ]
  },
  {
   "cell_type": "code",
   "execution_count": 7,
   "metadata": {
    "scrolled": true
   },
   "outputs": [
    {
     "name": "stdout",
     "output_type": "stream",
     "text": [
      "[1982]\tOUR OWN CHILDREN'S MAGAZINES: INSURING THEIR FUTURE.\n",
      " (8.096928349317885)\n",
      "[4444]\tMEDIA AND MICROFORMS.\n",
      " (8.061782140784882)\n",
      "[2825]\tTHE UNION OF THE MUSES.\n",
      " (7.836053703172263)\n",
      "[1075]\tA CONTEMPLATION OF CHILDREN'S SERVICES IN PUBLIC LIBRARIES OF WISCONSIN.\n",
      " (7.672927984476142)\n",
      "[925]\tECER ON BRS.\n",
      " (7.653470744716268)\n",
      "[1577]\tCHILDREN'S RIGHTS IN THE PUBLIC LIBRARY.\n",
      " (7.634246368411948)\n",
      "[4206]\tTHE WILL TO SURVIVE.\n",
      " (7.594487976194877)\n",
      "[4563]\tLIBRARY SERVICE TO HEARING IMPAIRED CHILDREN.\n",
      " (7.557740721251987)\n",
      "[1076]\tYOUTHVIEW: SURVEY OF CHILDREN'S SERVICES IN MISSOURI PUBLIC LIBRARIES.\n",
      " (7.539294213005712)\n",
      "[3617]\tEDUCATIONAL CENTRES-A NEW CHALLENGE TO LIBRARIES.\n",
      " (7.53061110300381)\n"
     ]
    }
   ],
   "source": [
    "myq.display_results(page=2)"
   ]
  },
  {
   "cell_type": "markdown",
   "metadata": {},
   "source": [
    "Retrieve a document from the corpus to see the abstract"
   ]
  },
  {
   "cell_type": "code",
   "execution_count": 16,
   "metadata": {},
   "outputs": [
    {
     "name": "stdout",
     "output_type": "stream",
     "text": [
      "CONTRIBUTION TO AN ISSUE DEVOTED TO PUBLIC LIBRARY SERVICES IN SWEDEN. A\n",
      "COUNTRY WITH A RICH PUBLICATION OF CHILDREN'S LITERATURE SHOULD ALSO HAVE\n",
      "WELL-APPOINTED AND FLOURISHING CHILDREN'S LIBRARIES. CHILDREN'S LIBRARIES HAVE\n",
      "EXISTED IN SWEDEN FOR 70 YEARS, BUT NOT UNTIL THE 1970S, WITH GREAT\n",
      "EDUCATIONAL REFORMS, WAS PRIORITY ACCORDED TO LIBRARY ACTIVITIES FOR CHILDREN.\n",
      "FROM THE LATE 1970S, LIBRARY CONSULTANTS' POSTS HAVE BEEN ESTABLISHED AT\n",
      "ALMOST ALL THE COUNTY LIBRARIES. DESCRIBES THE CONSULTANT'S ROLE IN RELATION\n",
      "TO THAT OF OTHERS CONCERNED WITH CHILD WELFARE.\n",
      "\n"
     ]
    }
   ],
   "source": [
    "print(corpus[5703].abstract)"
   ]
  },
  {
   "cell_type": "markdown",
   "metadata": {},
   "source": [
    "You can try pseudo relevance feedback to enhance the results"
   ]
  },
  {
   "cell_type": "code",
   "execution_count": 9,
   "metadata": {},
   "outputs": [
    {
     "name": "stdout",
     "output_type": "stream",
     "text": [
      "[5703]\tCHILDREN'S LIBRARY WORK AMONG ADULTS.\n",
      " (19.649967099668388)\n",
      "[5629]\tLIBRARY SERVICE TO IMMIGRANT CHILDREN IN DENMARK.\n",
      " (19.473302856571998)\n",
      "[4609]\tREFERENCE SERVICES TO CHILDREN AND STUDENTS IN THE PUBLIC LIBRARY.\n",
      " (19.192809812299053)\n",
      "[5061]\tLIBRARIES AND THE PROMOTION OF READING HABITS IN CHILDREN.\n",
      " (19.061365234975106)\n",
      "[2624]\tTHE PUBLIC LIBRARY AND THE POPULATION.\n",
      " (18.416714333162087)\n",
      "[4444]\tMEDIA AND MICROFORMS.\n",
      " (17.788681720956486)\n",
      "[2666]\tFILMS ON MENTAL RETARDATION.\n",
      " (17.455458747338227)\n",
      "[4102]\tPUBLIC LIBRARY POLICY.\n",
      " (17.177305799403214)\n",
      "[4570]\tCHILDREN'S LITERATURE AND LIBRARIES IN MALI' PROBLEMS AND DEVELOPMENT.\n",
      " (16.925035128266103)\n",
      "[483]\tSCHOOLTEACHERS' VIEW OF CHILDREN'S BOOKS.\n",
      " (16.804755821825125)\n"
     ]
    }
   ],
   "source": [
    "myq.iterative_pseudo_relevance()\n",
    "myq.display_results()"
   ]
  },
  {
   "cell_type": "markdown",
   "metadata": {},
   "source": [
    "You can interact with the system to do relevance feedback; pass as argument a list with the numbers you see in square parenthesis near the titles of the documents you like"
   ]
  },
  {
   "cell_type": "code",
   "execution_count": 10,
   "metadata": {},
   "outputs": [],
   "source": [
    "myq.give_feedback([4668, 4609, 5703, 5061, 2624, 4102])"
   ]
  },
  {
   "cell_type": "markdown",
   "metadata": {},
   "source": [
    "And then see how the results change"
   ]
  },
  {
   "cell_type": "code",
   "execution_count": 11,
   "metadata": {},
   "outputs": [
    {
     "name": "stdout",
     "output_type": "stream",
     "text": [
      "[4609]\tREFERENCE SERVICES TO CHILDREN AND STUDENTS IN THE PUBLIC LIBRARY.\n",
      " (17.986774388845923)\n",
      "[5703]\tCHILDREN'S LIBRARY WORK AMONG ADULTS.\n",
      " (17.951316145695603)\n",
      "[5629]\tLIBRARY SERVICE TO IMMIGRANT CHILDREN IN DENMARK.\n",
      " (17.855745855522)\n",
      "[5061]\tLIBRARIES AND THE PROMOTION OF READING HABITS IN CHILDREN.\n",
      " (17.342861293101393)\n",
      "[4102]\tPUBLIC LIBRARY POLICY.\n",
      " (16.919462286072687)\n",
      "[2624]\tTHE PUBLIC LIBRARY AND THE POPULATION.\n",
      " (16.865820350068013)\n",
      "[4444]\tMEDIA AND MICROFORMS.\n",
      " (16.549285063974516)\n",
      "[2666]\tFILMS ON MENTAL RETARDATION.\n",
      " (16.1184496054775)\n",
      "[5685]\tWHICH WAY FOR SCHOOL MEDIA SERVICES TO TURN?.\n",
      " (15.89761751891816)\n",
      "[4570]\tCHILDREN'S LITERATURE AND LIBRARIES IN MALI' PROBLEMS AND DEVELOPMENT.\n",
      " (15.471055620011501)\n",
      "[925]\tECER ON BRS.\n",
      " (15.212494048040838)\n",
      "[483]\tSCHOOLTEACHERS' VIEW OF CHILDREN'S BOOKS.\n",
      " (15.095187403829446)\n",
      "[4578]\tDANISH SCHOOL LIBRARY ASSOCIATION ANNUAL MEETING 1981.\n",
      " (14.908108945613527)\n",
      "[1075]\tA CONTEMPLATION OF CHILDREN'S SERVICES IN PUBLIC LIBRARIES OF WISCONSIN.\n",
      " (14.904686346080217)\n",
      "[3504]\tINTERNATIONALISM' AND THE CHILDREN'S LITERATURE COMMUNITY IN THE UNITED\n",
      "STATES: A SECOND LOOK\n",
      " (14.859945967362957)\n"
     ]
    }
   ],
   "source": [
    "myq.update_results()\n",
    "myq.display_results(how_many=15)   # see more results on a page"
   ]
  },
  {
   "cell_type": "markdown",
   "metadata": {},
   "source": [
    "Youu can repeat relevance feedback as many times as you want, until you are satisfied with the result; the system will keep memory of your previous feedback"
   ]
  },
  {
   "cell_type": "code",
   "execution_count": 12,
   "metadata": {},
   "outputs": [
    {
     "name": "stdout",
     "output_type": "stream",
     "text": [
      "[5703]\tCHILDREN'S LIBRARY WORK AMONG ADULTS.\n",
      " (16.81549405314066)\n",
      "[5629]\tLIBRARY SERVICE TO IMMIGRANT CHILDREN IN DENMARK.\n",
      " (16.68053717667079)\n",
      "[5061]\tLIBRARIES AND THE PROMOTION OF READING HABITS IN CHILDREN.\n",
      " (16.35487036941556)\n",
      "[4609]\tREFERENCE SERVICES TO CHILDREN AND STUDENTS IN THE PUBLIC LIBRARY.\n",
      " (16.34489465818766)\n",
      "[2624]\tTHE PUBLIC LIBRARY AND THE POPULATION.\n",
      " (15.750148145957416)\n",
      "[4444]\tMEDIA AND MICROFORMS.\n",
      " (15.13173727345086)\n",
      "[2666]\tFILMS ON MENTAL RETARDATION.\n",
      " (14.929361882419478)\n",
      "[4570]\tCHILDREN'S LITERATURE AND LIBRARIES IN MALI' PROBLEMS AND DEVELOPMENT.\n",
      " (14.535997232268794)\n",
      "[483]\tSCHOOLTEACHERS' VIEW OF CHILDREN'S BOOKS.\n",
      " (14.457805980939579)\n",
      "[4102]\tPUBLIC LIBRARY POLICY.\n",
      " (14.438560565661428)\n"
     ]
    }
   ],
   "source": [
    "myq.give_feedback([5685, 1075, 99])\n",
    "myq.update_results()\n",
    "myq.display_results()"
   ]
  },
  {
   "cell_type": "markdown",
   "metadata": {},
   "source": [
    "You can perform user-relevance feedback after pseudo-relevance feedback or vice versa (the system will reset after each): this is more efficient than instantiating a new query with the same text"
   ]
  },
  {
   "cell_type": "markdown",
   "metadata": {},
   "source": [
    "If you want, you can delete all your feedback given so far"
   ]
  },
  {
   "cell_type": "code",
   "execution_count": 13,
   "metadata": {},
   "outputs": [],
   "source": [
    "myq.reset_feedback()"
   ]
  },
  {
   "cell_type": "markdown",
   "metadata": {},
   "source": [
    "You can change the parameters of the probabilistic model"
   ]
  },
  {
   "cell_type": "code",
   "execution_count": 14,
   "metadata": {},
   "outputs": [
    {
     "name": "stdout",
     "output_type": "stream",
     "text": [
      "Help on function __init__ in module ProbabilisticModel:\n",
      "\n",
      "__init__(self, text, ir, k1_param=1.5, b_param=0.75, k3_param=1.5)\n",
      "    Parameters\n",
      "    ----------\n",
      "    text: text of the query\n",
      "    ir: IRsystem used to answer the query\n",
      "    k1_param: parameter of the BM25 model which weights document term frequency (default 1.5)\n",
      "    b_param: parameter of the BM25 model which weights document length normalisation (default 0.75)\n",
      "    k3_param: parameter of the BM25 model which weights query term frequency (default 1.5)\n",
      "\n"
     ]
    }
   ],
   "source": [
    "help(Query.__init__)"
   ]
  },
  {
   "cell_type": "code",
   "execution_count": 15,
   "metadata": {},
   "outputs": [
    {
     "name": "stdout",
     "output_type": "stream",
     "text": [
      "[175]\tON ALLOCATIONS TO UNIVERSITY LIBRARIES IN THE STATE OF NORTH RHINE-WESTPHALIA\n",
      "IN THE PERIOD FROM 1975 TO 1980.\n",
      " (2.664788898705279)\n",
      "[181]\tA FEW CONSIDERATIONS ON LIBRARY AUTOMATION.\n",
      " (2.664788898705279)\n",
      "[185]\tLIBRARIES AND NETWORKS IN TRANSITION: PROBLEMS AND PROSPECTS FOR THE 1980'S.\n",
      " (2.664788898705279)\n",
      "[187]\tMICRO COMPUTER SYSTEMS.\n",
      " (2.664788898705279)\n",
      "[188]\tTHE ROLE OF MICROCOMPUTERS IN LIBRARIES.\n",
      " (2.664788898705279)\n",
      "[254]\tTHE STATE SYSTEM OF SCIENTIFIC AND TECHNICAL INFORMATION: CURRENT STATE AND\n",
      "PERSPECTIVES.\n",
      " (2.664788898705279)\n",
      "[276]\tDESCRIPTION AND ANALYSIS OF AUTOMATED DATA BANKS.\n",
      " (2.664788898705279)\n",
      "[280]\tNEDS NATIONAL EMISSIONS DATA SYSTEM INFORMATION.\n",
      " (2.664788898705279)\n",
      "[282]\tSHARING DEVELOPMENT INFORMATION.\n",
      " (2.664788898705279)\n",
      "[283]\tINVESTIGATION INTO USERS' REQUIREMENTS AS PART OF THE METHODOLOGICAL APPROACH\n",
      "TO THE DESIGN OF AUTOMATED INFORMATION SYSTEMS.\n",
      " (2.664788898705279)\n"
     ]
    }
   ],
   "source": [
    "myq = Query(\"automation in libraries\", ir, k1_param=0, k3_param=0)\n",
    "# this is the Binary Indipendence Model\n",
    "myq.update_results()\n",
    "myq.display_results()"
   ]
  },
  {
   "cell_type": "code",
   "execution_count": null,
   "metadata": {},
   "outputs": [],
   "source": []
  }
 ],
 "metadata": {
  "kernelspec": {
   "display_name": "Python 3",
   "language": "python",
   "name": "python3"
  },
  "language_info": {
   "codemirror_mode": {
    "name": "ipython",
    "version": 3
   },
   "file_extension": ".py",
   "mimetype": "text/x-python",
   "name": "python",
   "nbconvert_exporter": "python",
   "pygments_lexer": "ipython3",
   "version": "3.8.5"
  }
 },
 "nbformat": 4,
 "nbformat_minor": 4
}
